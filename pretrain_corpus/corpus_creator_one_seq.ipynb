{
 "cells": [
  {
   "cell_type": "code",
   "execution_count": 2,
   "id": "aff5378d",
   "metadata": {},
   "outputs": [
    {
     "name": "stdout",
     "output_type": "stream",
     "text": [
      "Generated 114 sequences and saved them to /Users/DB/LineageEvolution/cov_sequence.csv.\n"
     ]
    }
   ],
   "source": [
    "# Take one complete SARS-CoV-2 genome and split it to several non-overlapping pieces of random lengths (0-512 bases)\n",
    "# and use the reads to pretrain transformer-based model\n",
    "\n",
    "import random\n",
    "import csv\n",
    "from Bio import SeqIO\n",
    "\n",
    "def generate_random_sequences(input_file, output_file):\n",
    "    sequences = []\n",
    "    with open(input_file, \"r\") as handle:\n",
    "        for record in SeqIO.parse(handle, \"fasta\"):\n",
    "            sequence = record.seq\n",
    "            seq_length = len(sequence)\n",
    "            if seq_length > 512:\n",
    "                start = 0\n",
    "                while start + 512 <= seq_length:\n",
    "                    end = start + random.randint(1, 512)\n",
    "                    sub_sequence = sequence[start:end]\n",
    "                    sequences.append(str(sub_sequence))\n",
    "                    start = end + 1\n",
    "\n",
    "    with open(output_file, \"w\", newline=\"\") as csvfile:\n",
    "        writer = csv.writer(csvfile)\n",
    "        writer.writerow([\"Sequence\"])\n",
    "        writer.writerows([[seq] for seq in sequences])\n",
    "\n",
    "    print(f\"Generated {len(sequences)} sequences and saved them to {output_file}.\")\n",
    "\n",
    "\n",
    "# Example usage:\n",
    "input_file = \"your/path/cov_sequence.fasta\"\n",
    "output_file = \"your/path/cov_sequence.csv\"\n",
    "generate_random_sequences(input_file, output_file)\n"
   ]
  },
  {
   "cell_type": "code",
   "execution_count": null,
   "id": "6b183fcb",
   "metadata": {},
   "outputs": [],
   "source": []
  }
 ],
 "metadata": {
  "kernelspec": {
   "display_name": "Python 3 (ipykernel)",
   "language": "python",
   "name": "python3"
  },
  "language_info": {
   "codemirror_mode": {
    "name": "ipython",
    "version": 3
   },
   "file_extension": ".py",
   "mimetype": "text/x-python",
   "name": "python",
   "nbconvert_exporter": "python",
   "pygments_lexer": "ipython3",
   "version": "3.10.9"
  }
 },
 "nbformat": 4,
 "nbformat_minor": 5
}
