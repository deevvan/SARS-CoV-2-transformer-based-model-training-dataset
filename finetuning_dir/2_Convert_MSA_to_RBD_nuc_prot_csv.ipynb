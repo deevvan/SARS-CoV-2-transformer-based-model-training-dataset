{
 "cells": [
  {
   "cell_type": "code",
   "execution_count": 17,
   "id": "0c78e751",
   "metadata": {},
   "outputs": [
    {
     "name": "stdout",
     "output_type": "stream",
     "text": [
      "Extracted sequences between positions 34732 and 36397 to '<_io.TextIOWrapper name='ref_genome_RBD_nucleotides.fasta' mode='w' encoding='UTF-8'>'.\n"
     ]
    }
   ],
   "source": [
    "# Trimming genome msa files to only extract RBD segment and remove gaps to get true RBD nucleotide sequences\n",
    "\n",
    "def extract_sequences_in_range(msa_fasta_file, start_position, end_position, output_file):\n",
    "    with open(msa_fasta_file, \"r\") as file:\n",
    "        header = \"\"\n",
    "        sequence = \"\"\n",
    "\n",
    "        # Open the output file for writing\n",
    "        with open(output_file, \"w\") as output_file:\n",
    "\n",
    "            for line in file:\n",
    "                line = line.strip()\n",
    "\n",
    "                if line.startswith(\">\"):\n",
    "                    # Start a new sequence\n",
    "                    if header and sequence:\n",
    "                        # Process the previous sequence if it's complete\n",
    "                        sequence = sequence.replace(\"*\", \"\")\n",
    "                        extracted_sequence = sequence[start_position - 1:end_position]\n",
    "\n",
    "                        # Remove gaps from the extracted sequence.\n",
    "                        extracted_sequence = extracted_sequence.replace(\"-\", \"\")\n",
    "\n",
    "                        # Write the extracted sequence to the output file.\n",
    "                        output_file.write(f\">{header}\\n{extracted_sequence}\\n\")\n",
    "\n",
    "                    header = line\n",
    "                    sequence = \"\"\n",
    "                else:\n",
    "                    sequence += line\n",
    "\n",
    "            # Process the last sequence if it's complete\n",
    "            if header and sequence:\n",
    "                sequence = sequence.replace(\"*\", \"\")\n",
    "                extracted_sequence = sequence[start_position - 1:end_position]\n",
    "                extracted_sequence = extracted_sequence.replace(\"-\", \"\")\n",
    "                output_file.write(f\">{header}\\n{extracted_sequence}\\n\")\n",
    "\n",
    "    print(f\"Extracted sequences between positions {start_position} and {end_position} to '{output_file}'.\")\n",
    "\n",
    "def main():\n",
    "    msa_fasta_file = \"your/path/ref_genome_MSA.fasta\"\n",
    "    start_position = 34732\n",
    "    end_position = 36397\n",
    "    output_file = \"your/path/ref_genome_RBD_nucleotides.fasta\"\n",
    "    extract_sequences_in_range(msa_fasta_file, start_position, end_position, output_file)\n",
    "\n",
    "if __name__ == \"__main__\":\n",
    "    main()\n"
   ]
  },
  {
   "cell_type": "code",
   "execution_count": 1,
   "id": "ae08ac14",
   "metadata": {},
   "outputs": [
    {
     "name": "stdout",
     "output_type": "stream",
     "text": [
      "Intel MKL WARNING: Support of Intel(R) Streaming SIMD Extensions 4.2 (Intel(R) SSE4.2) enabled only processors has been deprecated. Intel oneAPI Math Kernel Library 2025.0 will require Intel(R) Advanced Vector Extensions (Intel(R) AVX) instructions.\n",
      "Intel MKL WARNING: Support of Intel(R) Streaming SIMD Extensions 4.2 (Intel(R) SSE4.2) enabled only processors has been deprecated. Intel oneAPI Math Kernel Library 2025.0 will require Intel(R) Advanced Vector Extensions (Intel(R) AVX) instructions.\n",
      "Sequence Statistics:\n",
      "Total Sequences: 3816508\n",
      "Total Bases: 2615413945\n",
      "Minimum Length: 0 bases\n",
      "Maximum Length: 54657965 bases\n",
      "Average Length: 685.29 bases\n"
     ]
    }
   ],
   "source": [
    "from Bio import SeqIO\n",
    "\n",
    "def generate_sequence_statistics(fasta_file):\n",
    "    sequence_lengths = []\n",
    "    total_sequences = 0\n",
    "    total_bases = 0\n",
    "\n",
    "    with open(fasta_file, \"r\") as handle:\n",
    "        for record in SeqIO.parse(handle, \"fasta\"):\n",
    "            total_sequences += 1\n",
    "            sequence_length = len(record.seq)\n",
    "            sequence_lengths.append(sequence_length)\n",
    "            total_bases += sequence_length\n",
    "\n",
    "    # Calculate statistics\n",
    "    min_length = min(sequence_lengths)\n",
    "    max_length = max(sequence_lengths)\n",
    "    average_length = total_bases / total_sequences\n",
    "\n",
    "    # Print the statistics\n",
    "    print(\"Sequence Statistics:\")\n",
    "    print(f\"Total Sequences: {total_sequences}\")\n",
    "    print(f\"Total Bases: {total_bases}\")\n",
    "    print(f\"Minimum Length: {min_length} bases\")\n",
    "    print(f\"Maximum Length: {max_length} bases\")\n",
    "    print(f\"Average Length: {average_length:.2f} bases\")\n",
    "\n",
    "if __name__ == \"__main__\":\n",
    "    fasta_file = \"your/path/RBD_nucleotides.fasta\"  # Replace with your FASTA file\n",
    "    generate_sequence_statistics(fasta_file)\n"
   ]
  },
  {
   "cell_type": "code",
   "execution_count": 2,
   "id": "9b2ff943",
   "metadata": {},
   "outputs": [],
   "source": [
    "# Biopython library to filter sequences longer than 650 nucleotides from a FASTA file and write them to a new file\n",
    "\n",
    "from Bio import SeqIO\n",
    "\n",
    "def filter_sequences_by_length(input_file, output_file, min_length):\n",
    "    with open(input_file, \"r\") as handle:\n",
    "        records = [record for record in SeqIO.parse(handle, \"fasta\") if len(record.seq) > min_length]\n",
    "\n",
    "    with open(output_file, \"w\") as output_handle:\n",
    "        SeqIO.write(records, output_handle, \"fasta\")\n",
    "\n",
    "if __name__ == \"__main__\":\n",
    "    input_file = \"your/path/RBD_nucleotides.fasta\"  # Replace with your input FASTA file\n",
    "    output_file = \"your/path/RBD_valid_nucleotides.fasta\"\n",
    "    min_length = 600\n",
    "    filter_sequences_by_length(input_file, output_file, min_length)\n"
   ]
  },
  {
   "cell_type": "code",
   "execution_count": 3,
   "id": "44caba27",
   "metadata": {},
   "outputs": [
    {
     "name": "stdout",
     "output_type": "stream",
     "text": [
      "Randomly selected 1,000,000 valid sequences and saved to RBD_valid_nucleotides_million.fasta\n"
     ]
    }
   ],
   "source": [
    "## Python script to make a subset of the RBD_valid_NT.fasta MSA file down to manageable \n",
    "## size and also make sure length of each sequence is multiple of 3 \n",
    "\n",
    "from Bio import SeqIO\n",
    "import random\n",
    "\n",
    "# Input FASTA file and output file\n",
    "input_fasta = \"your/path/RBD_valid_nucleotides.fasta\"\n",
    "output_fasta = \"your/path/RBD_valid_nucleotides_million.fasta\"\n",
    "\n",
    "# Read all sequences from the input FASTA file\n",
    "all_sequences = list(SeqIO.parse(input_fasta, \"fasta\"))\n",
    "\n",
    "# Randomly select 1 million sequences\n",
    "num_sequences_to_select = 1000000\n",
    "subset_sequences = random.sample(all_sequences, min(num_sequences_to_select, len(all_sequences)))\n",
    "\n",
    "# Filter sequences to contain only A, T, G, and C, and have lengths as multiples of 3\n",
    "valid_sequences = [seq for seq in subset_sequences if set(str(seq.seq)).issubset(\"ATGC\")]\n",
    "\n",
    "# Ensure each selected sequence length is a multiple of 3 or remove 1 or 2 nucleotides\n",
    "for i in range(len(valid_sequences)):\n",
    "    seq_len = len(valid_sequences[i])\n",
    "    if seq_len % 3 != 0:\n",
    "        trim_length = seq_len % 3\n",
    "        valid_sequences[i] = valid_sequences[i][:-trim_length]\n",
    "\n",
    "# Write the selected sequences to the output FASTA file\n",
    "with open(output_fasta, \"w\") as output_handle:\n",
    "    SeqIO.write(valid_sequences, output_handle, \"fasta\")\n",
    "\n",
    "print(f\"Randomly selected 1,000,000 valid sequences and saved to {output_fasta}\")\n"
   ]
  },
  {
   "cell_type": "code",
   "execution_count": 4,
   "id": "51e64b91",
   "metadata": {},
   "outputs": [
    {
     "name": "stdout",
     "output_type": "stream",
     "text": [
      "Sequence Statistics:\n",
      "Total Sequences: 1000000\n",
      "Total Bases: 668994048\n",
      "Minimum Length: 600 bases\n",
      "Maximum Length: 708 bases\n",
      "Average Length: 668.99 bases\n"
     ]
    }
   ],
   "source": [
    "from Bio import SeqIO\n",
    "\n",
    "def generate_sequence_statistics(fasta_file):\n",
    "    sequence_lengths = []\n",
    "    total_sequences = 0\n",
    "    total_bases = 0\n",
    "\n",
    "    with open(fasta_file, \"r\") as handle:\n",
    "        for record in SeqIO.parse(handle, \"fasta\"):\n",
    "            total_sequences += 1\n",
    "            sequence_length = len(record.seq)\n",
    "            sequence_lengths.append(sequence_length)\n",
    "            total_bases += sequence_length\n",
    "\n",
    "    # Calculate statistics\n",
    "    min_length = min(sequence_lengths)\n",
    "    max_length = max(sequence_lengths)\n",
    "    average_length = total_bases / total_sequences\n",
    "\n",
    "    # Print the statistics\n",
    "    print(\"Sequence Statistics:\")\n",
    "    print(f\"Total Sequences: {total_sequences}\")\n",
    "    print(f\"Total Bases: {total_bases}\")\n",
    "    print(f\"Minimum Length: {min_length} bases\")\n",
    "    print(f\"Maximum Length: {max_length} bases\")\n",
    "    print(f\"Average Length: {average_length:.2f} bases\")\n",
    "\n",
    "if __name__ == \"__main__\":\n",
    "    fasta_file = \"your/path/RBD_valid_nucleotides_million.fasta\"  # Replace with your FASTA file\n",
    "    generate_sequence_statistics(fasta_file)"
   ]
  },
  {
   "cell_type": "code",
   "execution_count": 8,
   "id": "d3951e92",
   "metadata": {
    "collapsed": true
   },
   "outputs": [
    {
     "name": "stdout",
     "output_type": "stream",
     "text": [
      "Unexpected exception formatting exception. Falling back to standard exception\n"
     ]
    },
    {
     "name": "stderr",
     "output_type": "stream",
     "text": [
      "Traceback (most recent call last):\n",
      "  File \"/Users/DB/miniconda/lib/python3.10/site-packages/IPython/core/interactiveshell.py\", line 3460, in run_code\n",
      "    exec(code_obj, self.user_global_ns, self.user_ns)\n",
      "  File \"/var/folders/gl/qdqcbbk10hs36kcxf_06nkch0000gn/T/ipykernel_12776/344364984.py\", line -1, in <module>\n",
      "KeyboardInterrupt\n",
      "\n",
      "During handling of the above exception, another exception occurred:\n",
      "\n",
      "Traceback (most recent call last):\n",
      "  File \"/Users/DB/miniconda/lib/python3.10/site-packages/IPython/core/interactiveshell.py\", line 2057, in showtraceback\n",
      "    stb = self.InteractiveTB.structured_traceback(\n",
      "  File \"/Users/DB/miniconda/lib/python3.10/site-packages/IPython/core/ultratb.py\", line 1288, in structured_traceback\n",
      "    return FormattedTB.structured_traceback(\n",
      "  File \"/Users/DB/miniconda/lib/python3.10/site-packages/IPython/core/ultratb.py\", line 1177, in structured_traceback\n",
      "    return VerboseTB.structured_traceback(\n",
      "  File \"/Users/DB/miniconda/lib/python3.10/site-packages/IPython/core/ultratb.py\", line 1030, in structured_traceback\n",
      "    formatted_exception = self.format_exception_as_a_whole(etype, evalue, etb, number_of_lines_of_context,\n",
      "  File \"/Users/DB/miniconda/lib/python3.10/site-packages/IPython/core/ultratb.py\", line 960, in format_exception_as_a_whole\n",
      "    frames.append(self.format_record(record))\n",
      "  File \"/Users/DB/miniconda/lib/python3.10/site-packages/IPython/core/ultratb.py\", line 870, in format_record\n",
      "    frame_info.lines, Colors, self.has_colors, lvals\n",
      "  File \"/Users/DB/miniconda/lib/python3.10/site-packages/IPython/core/ultratb.py\", line 704, in lines\n",
      "    return self._sd.lines\n",
      "  File \"/Users/DB/miniconda/lib/python3.10/site-packages/stack_data/utils.py\", line 144, in cached_property_wrapper\n",
      "    value = obj.__dict__[self.func.__name__] = self.func(obj)\n",
      "  File \"/Users/DB/miniconda/lib/python3.10/site-packages/stack_data/core.py\", line 734, in lines\n",
      "    pieces = self.included_pieces\n",
      "  File \"/Users/DB/miniconda/lib/python3.10/site-packages/stack_data/utils.py\", line 144, in cached_property_wrapper\n",
      "    value = obj.__dict__[self.func.__name__] = self.func(obj)\n",
      "  File \"/Users/DB/miniconda/lib/python3.10/site-packages/stack_data/core.py\", line 681, in included_pieces\n",
      "    pos = scope_pieces.index(self.executing_piece)\n",
      "  File \"/Users/DB/miniconda/lib/python3.10/site-packages/stack_data/utils.py\", line 144, in cached_property_wrapper\n",
      "    value = obj.__dict__[self.func.__name__] = self.func(obj)\n",
      "  File \"/Users/DB/miniconda/lib/python3.10/site-packages/stack_data/core.py\", line 660, in executing_piece\n",
      "    return only(\n",
      "  File \"/Users/DB/miniconda/lib/python3.10/site-packages/executing/executing.py\", line 190, in only\n",
      "    raise NotOneValueFound('Expected one value, found 0')\n",
      "executing.executing.NotOneValueFound: Expected one value, found 0\n"
     ]
    }
   ],
   "source": [
    "## Maching the fasta RBD sequences with metadata \n",
    "\n",
    "from Bio import SeqIO\n",
    "import pandas as pd\n",
    "\n",
    "# Load your metadata DataFrame (df_metadata) and FASTA file here.\n",
    "\n",
    "import pandas as pd\n",
    "csv_file = \"metadata.tsv\"\n",
    "df_metadata = pd.read_csv(csv_file, sep='\\t', dtype=str, low_memory=False, encoding='latin-1')\n",
    "df_metadata.head()\n",
    "df_metadata.columns\n",
    "\n",
    "\n",
    "# Initialize a count for matches\n",
    "match_count = 0\n",
    "total_sequences = 0\n",
    "\n",
    "# Iterate through the sequences in your FASTA file\n",
    "for record in SeqIO.parse(\"your/path/RBD_valid_nucleotides_million.fasta\", \"fasta\"):\n",
    "    total_sequences += 1\n",
    "    accession_id_fasta = record.description.split(\"|\")[1]\n",
    "    \n",
    "    # Check if the Accession ID is present in the metadata DataFrame\n",
    "    if accession_id_fasta in df_metadata['Accession ID'].values:\n",
    "        match_count += 1\n",
    "\n",
    "# Print the results\n",
    "print(f\"Matches found: {match_count}\")\n",
    "print(f\"Total sequences: {total_sequences}\")\n"
   ]
  },
  {
   "cell_type": "code",
   "execution_count": 1,
   "id": "6bb6a1f6",
   "metadata": {
    "collapsed": true
   },
   "outputs": [
    {
     "ename": "NameError",
     "evalue": "name 'df_metadata' is not defined",
     "output_type": "error",
     "traceback": [
      "\u001b[0;31m---------------------------------------------------------------------------\u001b[0m",
      "\u001b[0;31mNameError\u001b[0m                                 Traceback (most recent call last)",
      "Cell \u001b[0;32mIn[1], line 2\u001b[0m\n\u001b[1;32m      1\u001b[0m \u001b[38;5;66;03m# SAMPLE run to test if the Accession ID values in the MSA files are present in metadata.tsv\u001b[39;00m\n\u001b[0;32m----> 2\u001b[0m \u001b[43mdf_metadata\u001b[49m\u001b[38;5;241m.\u001b[39mloc[df_metadata[\u001b[38;5;124m\"\u001b[39m\u001b[38;5;124mAccession ID\u001b[39m\u001b[38;5;124m\"\u001b[39m]\u001b[38;5;241m==\u001b[39m\u001b[38;5;124m\"\u001b[39m\u001b[38;5;124mEPI_ISL_402124\u001b[39m\u001b[38;5;124m\"\u001b[39m]\n",
      "\u001b[0;31mNameError\u001b[0m: name 'df_metadata' is not defined"
     ]
    }
   ],
   "source": [
    "# SAMPLE run to test if the Accession ID values in the MSA files are present in metadata.tsv\n",
    "df_metadata.loc[df_metadata[\"Accession ID\"]==\"EPI_ISL_402124\"]"
   ]
  },
  {
   "cell_type": "code",
   "execution_count": 1,
   "id": "7770759a",
   "metadata": {},
   "outputs": [
    {
     "name": "stdout",
     "output_type": "stream",
     "text": [
      "Intel MKL WARNING: Support of Intel(R) Streaming SIMD Extensions 4.2 (Intel(R) SSE4.2) enabled only processors has been deprecated. Intel oneAPI Math Kernel Library 2025.0 will require Intel(R) Advanced Vector Extensions (Intel(R) AVX) instructions.\n",
      "Intel MKL WARNING: Support of Intel(R) Streaming SIMD Extensions 4.2 (Intel(R) SSE4.2) enabled only processors has been deprecated. Intel oneAPI Math Kernel Library 2025.0 will require Intel(R) Advanced Vector Extensions (Intel(R) AVX) instructions.\n"
     ]
    },
    {
     "name": "stderr",
     "output_type": "stream",
     "text": [
      "/Users/DB/miniconda/lib/python3.10/site-packages/Bio/Seq.py:2804: BiopythonWarning: Partial codon, len(sequence) not a multiple of three. Explicitly trim the sequence or add trailing N before translation. This may become an error in future.\n",
      "  warnings.warn(\n"
     ]
    },
    {
     "ename": "KeyboardInterrupt",
     "evalue": "",
     "output_type": "error",
     "traceback": [
      "\u001b[0;31m---------------------------------------------------------------------------\u001b[0m",
      "\u001b[0;31mKeyboardInterrupt\u001b[0m                         Traceback (most recent call last)",
      "Cell \u001b[0;32mIn[1], line 42\u001b[0m\n\u001b[1;32m     39\u001b[0m sequence \u001b[38;5;241m=\u001b[39m \u001b[38;5;28mstr\u001b[39m(record\u001b[38;5;241m.\u001b[39mseq)\n\u001b[1;32m     41\u001b[0m \u001b[38;5;66;03m# Check if the Accession ID is present in the metadata DataFrame\u001b[39;00m\n\u001b[0;32m---> 42\u001b[0m match_row \u001b[38;5;241m=\u001b[39m df_metadata[\u001b[43mdf_metadata\u001b[49m\u001b[43m[\u001b[49m\u001b[38;5;124;43m'\u001b[39;49m\u001b[38;5;124;43mAccession ID\u001b[39;49m\u001b[38;5;124;43m'\u001b[39;49m\u001b[43m]\u001b[49m\u001b[43m \u001b[49m\u001b[38;5;241;43m==\u001b[39;49m\u001b[43m \u001b[49m\u001b[43maccession_id_fasta\u001b[49m]\n\u001b[1;32m     43\u001b[0m \u001b[38;5;28;01mif\u001b[39;00m \u001b[38;5;129;01mnot\u001b[39;00m match_row\u001b[38;5;241m.\u001b[39mempty:\n\u001b[1;32m     44\u001b[0m     lineage \u001b[38;5;241m=\u001b[39m match_row[\u001b[38;5;124m'\u001b[39m\u001b[38;5;124mPango lineage\u001b[39m\u001b[38;5;124m'\u001b[39m]\u001b[38;5;241m.\u001b[39mvalues[\u001b[38;5;241m0\u001b[39m]\n",
      "File \u001b[0;32m~/miniconda/lib/python3.10/site-packages/pandas/core/ops/common.py:76\u001b[0m, in \u001b[0;36m_unpack_zerodim_and_defer.<locals>.new_method\u001b[0;34m(self, other)\u001b[0m\n\u001b[1;32m     72\u001b[0m             \u001b[38;5;28;01mreturn\u001b[39;00m \u001b[38;5;28mNotImplemented\u001b[39m\n\u001b[1;32m     74\u001b[0m other \u001b[38;5;241m=\u001b[39m item_from_zerodim(other)\n\u001b[0;32m---> 76\u001b[0m \u001b[38;5;28;01mreturn\u001b[39;00m \u001b[43mmethod\u001b[49m\u001b[43m(\u001b[49m\u001b[38;5;28;43mself\u001b[39;49m\u001b[43m,\u001b[49m\u001b[43m \u001b[49m\u001b[43mother\u001b[49m\u001b[43m)\u001b[49m\n",
      "File \u001b[0;32m~/miniconda/lib/python3.10/site-packages/pandas/core/arraylike.py:40\u001b[0m, in \u001b[0;36mOpsMixin.__eq__\u001b[0;34m(self, other)\u001b[0m\n\u001b[1;32m     38\u001b[0m \u001b[38;5;129m@unpack_zerodim_and_defer\u001b[39m(\u001b[38;5;124m\"\u001b[39m\u001b[38;5;124m__eq__\u001b[39m\u001b[38;5;124m\"\u001b[39m)\n\u001b[1;32m     39\u001b[0m \u001b[38;5;28;01mdef\u001b[39;00m \u001b[38;5;21m__eq__\u001b[39m(\u001b[38;5;28mself\u001b[39m, other):\n\u001b[0;32m---> 40\u001b[0m     \u001b[38;5;28;01mreturn\u001b[39;00m \u001b[38;5;28;43mself\u001b[39;49m\u001b[38;5;241;43m.\u001b[39;49m\u001b[43m_cmp_method\u001b[49m\u001b[43m(\u001b[49m\u001b[43mother\u001b[49m\u001b[43m,\u001b[49m\u001b[43m \u001b[49m\u001b[43moperator\u001b[49m\u001b[38;5;241;43m.\u001b[39;49m\u001b[43meq\u001b[49m\u001b[43m)\u001b[49m\n",
      "File \u001b[0;32m~/miniconda/lib/python3.10/site-packages/pandas/core/series.py:5799\u001b[0m, in \u001b[0;36mSeries._cmp_method\u001b[0;34m(self, other, op)\u001b[0m\n\u001b[1;32m   5796\u001b[0m lvalues \u001b[38;5;241m=\u001b[39m \u001b[38;5;28mself\u001b[39m\u001b[38;5;241m.\u001b[39m_values\n\u001b[1;32m   5797\u001b[0m rvalues \u001b[38;5;241m=\u001b[39m extract_array(other, extract_numpy\u001b[38;5;241m=\u001b[39m\u001b[38;5;28;01mTrue\u001b[39;00m, extract_range\u001b[38;5;241m=\u001b[39m\u001b[38;5;28;01mTrue\u001b[39;00m)\n\u001b[0;32m-> 5799\u001b[0m res_values \u001b[38;5;241m=\u001b[39m \u001b[43mops\u001b[49m\u001b[38;5;241;43m.\u001b[39;49m\u001b[43mcomparison_op\u001b[49m\u001b[43m(\u001b[49m\u001b[43mlvalues\u001b[49m\u001b[43m,\u001b[49m\u001b[43m \u001b[49m\u001b[43mrvalues\u001b[49m\u001b[43m,\u001b[49m\u001b[43m \u001b[49m\u001b[43mop\u001b[49m\u001b[43m)\u001b[49m\n\u001b[1;32m   5801\u001b[0m \u001b[38;5;28;01mreturn\u001b[39;00m \u001b[38;5;28mself\u001b[39m\u001b[38;5;241m.\u001b[39m_construct_result(res_values, name\u001b[38;5;241m=\u001b[39mres_name)\n",
      "File \u001b[0;32m~/miniconda/lib/python3.10/site-packages/pandas/core/ops/array_ops.py:346\u001b[0m, in \u001b[0;36mcomparison_op\u001b[0;34m(left, right, op)\u001b[0m\n\u001b[1;32m    343\u001b[0m     \u001b[38;5;28;01mreturn\u001b[39;00m invalid_comparison(lvalues, rvalues, op)\n\u001b[1;32m    345\u001b[0m \u001b[38;5;28;01melif\u001b[39;00m lvalues\u001b[38;5;241m.\u001b[39mdtype \u001b[38;5;241m==\u001b[39m \u001b[38;5;28mobject\u001b[39m \u001b[38;5;129;01mor\u001b[39;00m \u001b[38;5;28misinstance\u001b[39m(rvalues, \u001b[38;5;28mstr\u001b[39m):\n\u001b[0;32m--> 346\u001b[0m     res_values \u001b[38;5;241m=\u001b[39m \u001b[43mcomp_method_OBJECT_ARRAY\u001b[49m\u001b[43m(\u001b[49m\u001b[43mop\u001b[49m\u001b[43m,\u001b[49m\u001b[43m \u001b[49m\u001b[43mlvalues\u001b[49m\u001b[43m,\u001b[49m\u001b[43m \u001b[49m\u001b[43mrvalues\u001b[49m\u001b[43m)\u001b[49m\n\u001b[1;32m    348\u001b[0m \u001b[38;5;28;01melse\u001b[39;00m:\n\u001b[1;32m    349\u001b[0m     res_values \u001b[38;5;241m=\u001b[39m _na_arithmetic_op(lvalues, rvalues, op, is_cmp\u001b[38;5;241m=\u001b[39m\u001b[38;5;28;01mTrue\u001b[39;00m)\n",
      "File \u001b[0;32m~/miniconda/lib/python3.10/site-packages/pandas/core/ops/array_ops.py:131\u001b[0m, in \u001b[0;36mcomp_method_OBJECT_ARRAY\u001b[0;34m(op, x, y)\u001b[0m\n\u001b[1;32m    129\u001b[0m     result \u001b[38;5;241m=\u001b[39m libops\u001b[38;5;241m.\u001b[39mvec_compare(x\u001b[38;5;241m.\u001b[39mravel(), y\u001b[38;5;241m.\u001b[39mravel(), op)\n\u001b[1;32m    130\u001b[0m \u001b[38;5;28;01melse\u001b[39;00m:\n\u001b[0;32m--> 131\u001b[0m     result \u001b[38;5;241m=\u001b[39m \u001b[43mlibops\u001b[49m\u001b[38;5;241;43m.\u001b[39;49m\u001b[43mscalar_compare\u001b[49m\u001b[43m(\u001b[49m\u001b[43mx\u001b[49m\u001b[38;5;241;43m.\u001b[39;49m\u001b[43mravel\u001b[49m\u001b[43m(\u001b[49m\u001b[43m)\u001b[49m\u001b[43m,\u001b[49m\u001b[43m \u001b[49m\u001b[43my\u001b[49m\u001b[43m,\u001b[49m\u001b[43m \u001b[49m\u001b[43mop\u001b[49m\u001b[43m)\u001b[49m\n\u001b[1;32m    132\u001b[0m \u001b[38;5;28;01mreturn\u001b[39;00m result\u001b[38;5;241m.\u001b[39mreshape(x\u001b[38;5;241m.\u001b[39mshape)\n",
      "\u001b[0;31mKeyboardInterrupt\u001b[0m: "
     ]
    }
   ],
   "source": [
    "# Script to write out matching fasta files with Accession ID values in metadata file to csv \n",
    "# files with Variant values and convert each nucleotide sequence to protein sequences\n",
    "\n",
    "from Bio import SeqIO\n",
    "from Bio.Seq import Seq\n",
    "import pandas as pd\n",
    "import json\n",
    "\n",
    "# Load your metadata DataFrame (df_metadata) and provide the correct path to your FASTA file and \"RBD.voc.json\" file.\n",
    "csv_file = \"your/path/metadata.tsv\"\n",
    "df_metadata = pd.read_csv(csv_file, sep='\\t', dtype=str, low_memory=False, encoding='latin-1')\n",
    "\n",
    "# Load the voc.json file\n",
    "with open('voc.json', 'r') as json_file:\n",
    "    voc_data = json.load(json_file)\n",
    "\n",
    "# Define a function to determine the VOC value based on Pango Lineage\n",
    "def determine_voc(lineage):\n",
    "    for voc, lineages in voc_data.items():\n",
    "        if lineage in lineages:\n",
    "            return voc\n",
    "    return \"nonVOC\"\n",
    "\n",
    "# Define the translation function\n",
    "def translate_nucleotides_to_protein(nucleotide_sequence):\n",
    "    return str(Seq(nucleotide_sequence).translate())\n",
    "\n",
    "# Define the output CSV file\n",
    "output_csv_file = \"your/path/RBD_valid_nucleotides_million.csv\"\n",
    "\n",
    "# Initialize a count for matches\n",
    "match_count = 0\n",
    "total_sequences = 0\n",
    "\n",
    "# Iterate through the sequences in your FASTA file\n",
    "for record in SeqIO.parse(\"your/path/RBD_valid_nucleotides_million.fasta\", \"fasta\"):\n",
    "    total_sequences += 1\n",
    "    accession_id_fasta = record.description.split(\"|\")[1]\n",
    "    sequence = str(record.seq)\n",
    "\n",
    "    # Check if the Accession ID is present in the metadata DataFrame\n",
    "    match_row = df_metadata[df_metadata['Accession ID'] == accession_id_fasta]\n",
    "    if not match_row.empty:\n",
    "        lineage = match_row['Pango lineage'].values[0]\n",
    "\n",
    "        # Create a DataFrame for the current record\n",
    "        output_data = {\n",
    "            'Accession ID': [accession_id_fasta],\n",
    "            'Lineage': [lineage],\n",
    "            'RBD nucleotide': [sequence],\n",
    "            'Variant': [determine_voc(lineage)],\n",
    "            'RBD protein': [translate_nucleotides_to_protein(sequence)],\n",
    "        }\n",
    "        output_df = pd.DataFrame(output_data)\n",
    "\n",
    "        # Save the DataFrame to the output CSV file\n",
    "        with open(output_csv_file, 'a', newline='') as f:\n",
    "            output_df.to_csv(f, mode='a', header=not total_sequences, index=False)\n",
    "\n",
    "# Print the results\n",
    "print(f\"Matches found: {match_count}\")\n",
    "print(f\"Total sequences: {total_sequences}\")\n",
    "print(f\"Output CSV file saved as {output_csv_file}\")\n"
   ]
  },
  {
   "cell_type": "code",
   "execution_count": null,
   "id": "bec69d90",
   "metadata": {},
   "outputs": [],
   "source": []
  }
 ],
 "metadata": {
  "kernelspec": {
   "display_name": "Python 3 (ipykernel)",
   "language": "python",
   "name": "python3"
  },
  "language_info": {
   "codemirror_mode": {
    "name": "ipython",
    "version": 3
   },
   "file_extension": ".py",
   "mimetype": "text/x-python",
   "name": "python",
   "nbconvert_exporter": "python",
   "pygments_lexer": "ipython3",
   "version": "3.10.9"
  }
 },
 "nbformat": 4,
 "nbformat_minor": 5
}
