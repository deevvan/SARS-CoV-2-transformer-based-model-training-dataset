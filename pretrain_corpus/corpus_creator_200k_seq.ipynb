{
 "cells": [
  {
   "cell_type": "code",
   "execution_count": 12,
   "id": "7e75ba54",
   "metadata": {},
   "outputs": [
    {
     "name": "stdout",
     "output_type": "stream",
     "text": [
      "Total number of sequences after N% filter:  200000\n"
     ]
    }
   ],
   "source": [
    "# Collecting 100k or 200k random sequences from the fasta corpus to pretrain model\n",
    "import random\n",
    "from Bio import SeqIO\n",
    "\n",
    "db_path = \"your/path/sequences.fasta\"\n",
    "\n",
    "subset_path = \"your/path/200k_sequences.fasta\"\n",
    "\n",
    "# Collect 100k random sequences from corpus file\n",
    "total_viruses = 200000\n",
    "selected_sequences = []\n",
    "count = 0\n",
    "with open(subset_path, \"w\") as subset, open(db_path, \"r\", encoding=\"latin-1\") as handle:\n",
    "    for record in SeqIO.parse(handle, \"fasta\"):\n",
    "        count += 1\n",
    "        if len(selected_sequences) < total_viruses:\n",
    "            sequence = str(record.seq)\n",
    "            n_count = sequence.count('N')\n",
    "            n_percent = n_count / len(sequence)\n",
    "            if n_percent < 0.001:\n",
    "                SeqIO.write(record, subset, \"fasta\")\n",
    "                selected_sequences.append(record)\n",
    "        else:\n",
    "            break\n",
    "\n",
    "# Check the total number of sequences after applying the N% filter\n",
    "num_sequences = len(selected_sequences)\n",
    "print(\"Total number of sequences after N% filter: \", num_sequences)\n"
   ]
  },
  {
   "cell_type": "code",
   "execution_count": 13,
   "id": "6d4a290e",
   "metadata": {},
   "outputs": [
    {
     "name": "stdout",
     "output_type": "stream",
     "text": [
      "Number of sequences in the subset:  200000\n"
     ]
    }
   ],
   "source": [
    "# Checking number of sequences in subset fasta\n",
    "from Bio import SeqIO\n",
    "\n",
    "subset_path = \"your/path/200k_sequences.fasta\"\n",
    "\n",
    "# Count the number of fasta sequences\n",
    "num_sequences = 0\n",
    "for record in SeqIO.parse(subset_path, \"fasta\"):\n",
    "    num_sequences += 1\n",
    "\n",
    "print(\"Number of sequences in the subset: \", num_sequences)\n"
   ]
  },
  {
   "cell_type": "code",
   "execution_count": 14,
   "id": "f61fecb0",
   "metadata": {},
   "outputs": [
    {
     "name": "stdout",
     "output_type": "stream",
     "text": [
      "Number of rows in the CSV file:  23114407\n"
     ]
    }
   ],
   "source": [
    "# Writing out 1-512 nt long segmented sequences in subset_path(200k corpus sequences) into csv file for pretraining\n",
    "import random\n",
    "import csv\n",
    "from Bio import SeqIO\n",
    "\n",
    "\n",
    "subset_path = \"your/path/200k_sequences.fasta\"\n",
    "\n",
    "csv_file = \"your/path/200k_seq_segmented.csv\"\n",
    "\n",
    "# Open the CSV file for writing\n",
    "with open(csv_file, \"w\", newline='') as csvfile:\n",
    "    writer = csv.writer(csvfile)\n",
    "    writer.writerow(['Segment'])\n",
    "\n",
    "    # Iterate over each sequence in the subset fasta file\n",
    "    for record in SeqIO.parse(subset_path, \"fasta\"):\n",
    "        sequence = str(record.seq)\n",
    "        seq_length = len(sequence)\n",
    "        start = 0\n",
    "        end = random.randint(1, 512)\n",
    "\n",
    "        # Write segments to the CSV file\n",
    "        while start < seq_length:\n",
    "            segment = sequence[start:end]\n",
    "            writer.writerow([segment])\n",
    "            start = end + 1\n",
    "            end = start + random.randint(1, 512)\n",
    "\n",
    "# Count the number of rows in the CSV file\n",
    "with open(csv_file, \"r\") as csvfile:\n",
    "    num_rows = sum(1 for row in csvfile)\n",
    "\n",
    "# Print the number of rows in the CSV file\n",
    "print(\"Number of rows in the CSV file: \", num_rows)\n"
   ]
  },
  {
   "cell_type": "code",
   "execution_count": null,
   "id": "111c5976",
   "metadata": {},
   "outputs": [],
   "source": []
  }
 ],
 "metadata": {
  "kernelspec": {
   "display_name": "Python 3 (ipykernel)",
   "language": "python",
   "name": "python3"
  },
  "language_info": {
   "codemirror_mode": {
    "name": "ipython",
    "version": 3
   },
   "file_extension": ".py",
   "mimetype": "text/x-python",
   "name": "python",
   "nbconvert_exporter": "python",
   "pygments_lexer": "ipython3",
   "version": "3.10.9"
  }
 },
 "nbformat": 4,
 "nbformat_minor": 5
}
